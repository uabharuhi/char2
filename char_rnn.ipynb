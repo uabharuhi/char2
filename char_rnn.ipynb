{
 "cells": [
  {
   "cell_type": "code",
   "execution_count": 6,
   "metadata": {
    "collapsed": true
   },
   "outputs": [],
   "source": [
    "%reload_ext autoreload\n",
    "%autoreload 2\n",
    "import tensorflow as tf\n",
    "import numpy as np\n",
    "import model"
   ]
  },
  {
   "cell_type": "markdown",
   "metadata": {},
   "source": [
    "## generate data"
   ]
  },
  {
   "cell_type": "code",
   "execution_count": 23,
   "metadata": {},
   "outputs": [],
   "source": [
    "DATAPATH = './data/data.txt'\n",
    "#return\n",
    "#X, list of  of ids of words in the document of path\n",
    "#y, list if next word of X,y[0] is  None\n",
    "parameter = model.Parameter(DATAPATH)\n",
    "batch_generator = model.generate_batches(parameter)"
   ]
  },
  {
   "cell_type": "markdown",
   "metadata": {},
   "source": [
    "## Define model"
   ]
  },
  {
   "cell_type": "code",
   "execution_count": 24,
   "metadata": {},
   "outputs": [],
   "source": [
    "Xs,ys = next(batch_generator)"
   ]
  },
  {
   "cell_type": "code",
   "execution_count": 25,
   "metadata": {},
   "outputs": [
    {
     "name": "stdout",
     "output_type": "stream",
     "text": [
      "[[19, 47, 25, 62], [17, 20, 3, 47], [17, 47, 27, 43], [28, 33, 50, 26], [43, 31, 16, 25], [43, 20, 32, 43], [20, 18, 25, 16], [41, 43, 43, 21], [20, 39, 28, 48], [20, 31, 7, 25], [17, 22, 43, 25], [46, 20, 22, 43], [39, 25, 20, 9], [43, 20, 62, 18], [43, 39, 53, 49], [50, 50, 40, 59], [59, 33, 50, 38], [18, 43, 39, 53], [46, 20, 62, 18], [43, 39, 53, 49], [50, 50, 19, 47], [25, 62, 17, 20], [3, 47, 17, 47], [27, 43, 28, 33], [50, 10, 16, 7], [20, 39, 25, 43], [20, 39, 59, 59], [20, 25, 43, 62], [16, 59, 34, 43], [21, 20, 25, 39], [17, 22, 43, 25], [20, 17, 16, 20]]\n",
      "[[47, 25, 62, 17], [20, 3, 47, 17], [47, 27, 43, 28], [33, 50, 26, 43], [31, 16, 25, 43], [20, 32, 43, 20], [18, 25, 16, 41], [43, 43, 21, 20], [39, 28, 48, 20], [31, 7, 25, 17], [22, 43, 25, 46], [20, 22, 43, 39], [25, 20, 9, 43], [20, 62, 18, 43], [39, 53, 49, 50], [50, 40, 59, 59], [33, 50, 38, 18], [43, 39, 53, 46], [20, 62, 18, 43], [39, 53, 49, 50], [50, 19, 47, 25], [62, 17, 20, 3], [47, 17, 47, 27], [43, 28, 33, 50], [10, 16, 7, 20], [39, 25, 43, 20], [39, 59, 59, 20], [25, 43, 62, 16], [59, 34, 43, 21], [20, 25, 39, 17], [22, 43, 25, 20], [17, 16, 20, 21]]\n"
     ]
    }
   ],
   "source": [
    "print(Xs)\n",
    "print(ys)"
   ]
  },
  {
   "cell_type": "code",
   "execution_count": null,
   "metadata": {
    "collapsed": true
   },
   "outputs": [],
   "source": []
  }
 ],
 "metadata": {
  "kernelspec": {
   "display_name": "Python 3",
   "language": "python",
   "name": "python3"
  },
  "language_info": {
   "codemirror_mode": {
    "name": "ipython",
    "version": 3
   },
   "file_extension": ".py",
   "mimetype": "text/x-python",
   "name": "python",
   "nbconvert_exporter": "python",
   "pygments_lexer": "ipython3",
   "version": "3.5.2"
  }
 },
 "nbformat": 4,
 "nbformat_minor": 2
}
