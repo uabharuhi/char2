{
 "cells": [
  {
   "cell_type": "code",
   "execution_count": 1,
   "metadata": {
    "collapsed": true
   },
   "outputs": [],
   "source": [
    "%load_ext autoreload\n",
    "%autoreload 2\n",
    "import tensorflow as tf\n",
    "import numpy as np\n",
    "import model"
   ]
  },
  {
   "cell_type": "markdown",
   "metadata": {},
   "source": [
    "## generate data"
   ]
  },
  {
   "cell_type": "code",
   "execution_count": 2,
   "metadata": {
    "collapsed": true
   },
   "outputs": [],
   "source": [
    "DATAPATH = './data/data.txt'\n",
    "#return\n",
    "#X, list of  of ids of words in the document of path\n",
    "#y, list if next word of X,y[0] is  None\n",
    "def generate_data(path):\n",
    "    with open(path,\"r\",encoding=\"utf-8\") as f:\n",
    "        s = f.read()\n",
    "        vocab = set(s)\n",
    "        id2char = list(vocab)\n",
    "        char2id = { c:i  for i,c in enumerate(id2char)}\n",
    "        \n",
    "    \n",
    "    \n",
    "    \n",
    "    return X,y,id2char,char2id\n",
    "X,y,id2char,char2_id = generate_data(DATAPATH)    "
   ]
  },
  {
   "cell_type": "markdown",
   "metadata": {},
   "source": [
    "## Define model"
   ]
  },
  {
   "cell_type": "code",
   "execution_count": null,
   "metadata": {
    "collapsed": true
   },
   "outputs": [],
   "source": [
    "WORD_EMBEDDING_DIM = 100\n",
    "NUM_EPOCH = 100\n",
    "LR = 0.2\n",
    "V = 128\n"
   ]
  }
 ],
 "metadata": {
  "kernelspec": {
   "display_name": "Python 3",
   "language": "python",
   "name": "python3"
  },
  "language_info": {
   "codemirror_mode": {
    "name": "ipython",
    "version": 3
   },
   "file_extension": ".py",
   "mimetype": "text/x-python",
   "name": "python",
   "nbconvert_exporter": "python",
   "pygments_lexer": "ipython3",
   "version": "3.5.3"
  }
 },
 "nbformat": 4,
 "nbformat_minor": 2
}
